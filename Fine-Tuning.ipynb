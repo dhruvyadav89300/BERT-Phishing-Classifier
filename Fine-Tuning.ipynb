{
 "cells": [
  {
   "cell_type": "markdown",
   "metadata": {},
   "source": [
    "### Importing Dependencies"
   ]
  },
  {
   "cell_type": "code",
   "execution_count": 10,
   "metadata": {},
   "outputs": [
    {
     "name": "stderr",
     "output_type": "stream",
     "text": [
      "Note: Environment variable`HF_TOKEN` is set and is the current active token independently from the token you've just configured.\n"
     ]
    }
   ],
   "source": [
    "import os\n",
    "import evaluate\n",
    "import numpy as np\n",
    "from dotenv import load_dotenv\n",
    "from datasets import load_dataset\n",
    "import matplotlib.pyplot as plt\n",
    "from transformers import AutoTokenizer, AutoModelForSequenceClassification, TrainingArguments, Trainer\n",
    "from transformers import DataCollatorWithPadding\n",
    "from huggingface_hub import login\n",
    "\n",
    "load_dotenv()\n",
    "os.environ[\"HF_TOKEN\"] = os.getenv(\"HF_TOKEN\")\n",
    "login_token = os.environ[\"HF_TOKEN\"]\n",
    "login(token=login_token)"
   ]
  },
  {
   "cell_type": "markdown",
   "metadata": {},
   "source": [
    "### Loading the Dataset"
   ]
  },
  {
   "cell_type": "code",
   "execution_count": 2,
   "metadata": {},
   "outputs": [],
   "source": [
    "dataset_dict = load_dataset(\"shawhin/phishing-site-classification\")"
   ]
  },
  {
   "cell_type": "code",
   "execution_count": 3,
   "metadata": {},
   "outputs": [
    {
     "data": {
      "text/plain": [
       "DatasetDict({\n",
       "    train: Dataset({\n",
       "        features: ['text', 'labels'],\n",
       "        num_rows: 2100\n",
       "    })\n",
       "    validation: Dataset({\n",
       "        features: ['text', 'labels'],\n",
       "        num_rows: 450\n",
       "    })\n",
       "    test: Dataset({\n",
       "        features: ['text', 'labels'],\n",
       "        num_rows: 450\n",
       "    })\n",
       "})"
      ]
     },
     "execution_count": 3,
     "metadata": {},
     "output_type": "execute_result"
    }
   ],
   "source": [
    "dataset_dict"
   ]
  },
  {
   "cell_type": "markdown",
   "metadata": {},
   "source": [
    "### Loading the Model"
   ]
  },
  {
   "cell_type": "code",
   "execution_count": 4,
   "metadata": {},
   "outputs": [
    {
     "name": "stderr",
     "output_type": "stream",
     "text": [
      "Some weights of BertForSequenceClassification were not initialized from the model checkpoint at google-bert/bert-base-uncased and are newly initialized: ['classifier.bias', 'classifier.weight']\n",
      "You should probably TRAIN this model on a down-stream task to be able to use it for predictions and inference.\n"
     ]
    }
   ],
   "source": [
    "model_path = \"google-bert/bert-base-uncased\"\n",
    "\n",
    "tokenizer = AutoTokenizer.from_pretrained(model_path)\n",
    "\n",
    "id2label = {0: \"Safe\", 1:\"Not Safe\"}\n",
    "label2id = {\"Safe\":0, \"Not Safe\":1}\n",
    "\n",
    "model = AutoModelForSequenceClassification.from_pretrained(model_path, \n",
    "                                                           num_labels = 2,\n",
    "                                                           id2label=id2label, \n",
    "                                                           label2id=label2id)"
   ]
  },
  {
   "cell_type": "markdown",
   "metadata": {},
   "source": [
    "### Unfreezing a few parameters"
   ]
  },
  {
   "cell_type": "code",
   "execution_count": 5,
   "metadata": {},
   "outputs": [],
   "source": [
    "for name, param in model.base_model.named_parameters():\n",
    "    param.requires_grad = False\n",
    "\n",
    "for name, param in model.base_model.named_parameters():\n",
    "    if \"pooler\" in name:\n",
    "        param.requires_grad = True"
   ]
  },
  {
   "cell_type": "markdown",
   "metadata": {},
   "source": [
    "### Preprocess the Dataset"
   ]
  },
  {
   "cell_type": "code",
   "execution_count": 6,
   "metadata": {},
   "outputs": [
    {
     "data": {
      "application/vnd.jupyter.widget-view+json": {
       "model_id": "8bb455fcc01543c5a7b526e68596229a",
       "version_major": 2,
       "version_minor": 0
      },
      "text/plain": [
       "Map:   0%|          | 0/450 [00:00<?, ? examples/s]"
      ]
     },
     "metadata": {},
     "output_type": "display_data"
    }
   ],
   "source": [
    "def preprocess(examples):\n",
    "    return tokenizer(examples[\"text\"], truncation=True)\n",
    "\n",
    "tokenized_data = dataset_dict.map(preprocess, batched=True)\n",
    "\n",
    "data_collator = DataCollatorWithPadding(tokenizer=tokenizer)"
   ]
  },
  {
   "cell_type": "markdown",
   "metadata": {},
   "source": [
    "### Helper Function to evaluate model"
   ]
  },
  {
   "cell_type": "code",
   "execution_count": 19,
   "metadata": {},
   "outputs": [],
   "source": [
    "accuracy = evaluate.load(\"accuracy\")\n",
    "auc_score = evaluate.load(\"roc_auc\")\n",
    "\n",
    "def compute_metrics(eval_pred):\n",
    "    predictions, labels = eval_pred\n",
    "\n",
    "    probabilities = np.exp(predictions) / np.exp(predictions).sum(-1, keepdims=True)\n",
    "\n",
    "    positive_class_probs = probabilities[:, 1]\n",
    "\n",
    "    auc = np.round(auc_score.compute(prediction_scores = positive_class_probs, \n",
    "                                     references=labels)['roc_auc'], 3)\n",
    "    \n",
    "    predicted_class = np.argmax(predictions, axis=1)\n",
    "\n",
    "    acc = np.round(accuracy.compute(predictions=predicted_class,\n",
    "                                    references=labels)['accuracy'], 3)\n",
    "    \n",
    "    return {\"Accuracy\": acc, \"AUC\": auc}"
   ]
  },
  {
   "cell_type": "markdown",
   "metadata": {},
   "source": [
    "### Training"
   ]
  },
  {
   "cell_type": "code",
   "execution_count": null,
   "metadata": {},
   "outputs": [],
   "source": [
    "lr = 2e-4\n",
    "batch_size = 8\n",
    "num_epochs = 20\n",
    "\n",
    "training_args = TrainingArguments(\n",
    "    output_dir=\"bert-pishing-classifier_teacher\",\n",
    "    learning_rate=lr,\n",
    "    per_device_train_batch_size=batch_size,\n",
    "    per_device_eval_batch_size=batch_size,\n",
    "    num_train_epochs=num_epochs,\n",
    "    logging_strategy=\"epoch\",\n",
    "    eval_strategy=\"epoch\",\n",
    "    save_strategy=\"epoch\",\n",
    "    load_best_model_at_end=True\n",
    ")"
   ]
  },
  {
   "cell_type": "code",
   "execution_count": 9,
   "metadata": {},
   "outputs": [
    {
     "name": "stderr",
     "output_type": "stream",
     "text": [
      "/var/folders/qt/5c37h5kx4mscm3d04cjbk4kw0000gn/T/ipykernel_15718/2556582153.py:1: FutureWarning: `tokenizer` is deprecated and will be removed in version 5.0.0 for `Trainer.__init__`. Use `processing_class` instead.\n",
      "  trainer = Trainer(\n"
     ]
    },
    {
     "data": {
      "application/vnd.jupyter.widget-view+json": {
       "model_id": "a518838935f2477ea567f1c8257645c4",
       "version_major": 2,
       "version_minor": 0
      },
      "text/plain": [
       "  0%|          | 0/5260 [00:00<?, ?it/s]"
      ]
     },
     "metadata": {},
     "output_type": "display_data"
    },
    {
     "name": "stdout",
     "output_type": "stream",
     "text": [
      "{'loss': 0.4932, 'grad_norm': 1.3125159740447998, 'learning_rate': 0.00019, 'epoch': 1.0}\n"
     ]
    },
    {
     "data": {
      "application/vnd.jupyter.widget-view+json": {
       "model_id": "7714b550f8af4ac89d81ae9a6c9b0b0a",
       "version_major": 2,
       "version_minor": 0
      },
      "text/plain": [
       "  0%|          | 0/57 [00:00<?, ?it/s]"
      ]
     },
     "metadata": {},
     "output_type": "display_data"
    },
    {
     "name": "stdout",
     "output_type": "stream",
     "text": [
      "{'eval_loss': 0.423735111951828, 'eval_Accuracy': 0.789, 'eval_AUC': 0.912, 'eval_runtime': 5.6967, 'eval_samples_per_second': 78.992, 'eval_steps_per_second': 10.006, 'epoch': 1.0}\n",
      "{'loss': 0.3908, 'grad_norm': 2.4090731143951416, 'learning_rate': 0.00018, 'epoch': 2.0}\n"
     ]
    },
    {
     "data": {
      "application/vnd.jupyter.widget-view+json": {
       "model_id": "cc3d4500df7049e9b7bd56e8ed02a64c",
       "version_major": 2,
       "version_minor": 0
      },
      "text/plain": [
       "  0%|          | 0/57 [00:00<?, ?it/s]"
      ]
     },
     "metadata": {},
     "output_type": "display_data"
    },
    {
     "name": "stdout",
     "output_type": "stream",
     "text": [
      "{'eval_loss': 0.37613171339035034, 'eval_Accuracy': 0.824, 'eval_AUC': 0.932, 'eval_runtime': 4.4217, 'eval_samples_per_second': 101.771, 'eval_steps_per_second': 12.891, 'epoch': 2.0}\n",
      "{'loss': 0.3787, 'grad_norm': 0.9238015413284302, 'learning_rate': 0.00017, 'epoch': 3.0}\n"
     ]
    },
    {
     "data": {
      "application/vnd.jupyter.widget-view+json": {
       "model_id": "63ecbcde28b14facb3b3481f81519f17",
       "version_major": 2,
       "version_minor": 0
      },
      "text/plain": [
       "  0%|          | 0/57 [00:00<?, ?it/s]"
      ]
     },
     "metadata": {},
     "output_type": "display_data"
    },
    {
     "name": "stdout",
     "output_type": "stream",
     "text": [
      "{'eval_loss': 0.3136453926563263, 'eval_Accuracy': 0.86, 'eval_AUC': 0.941, 'eval_runtime': 4.4755, 'eval_samples_per_second': 100.547, 'eval_steps_per_second': 12.736, 'epoch': 3.0}\n",
      "{'loss': 0.3606, 'grad_norm': 1.3076977729797363, 'learning_rate': 0.00016, 'epoch': 4.0}\n"
     ]
    },
    {
     "data": {
      "application/vnd.jupyter.widget-view+json": {
       "model_id": "db9621fe5136438d94bf67e5a04c337f",
       "version_major": 2,
       "version_minor": 0
      },
      "text/plain": [
       "  0%|          | 0/57 [00:00<?, ?it/s]"
      ]
     },
     "metadata": {},
     "output_type": "display_data"
    },
    {
     "name": "stdout",
     "output_type": "stream",
     "text": [
      "{'eval_loss': 0.4401080310344696, 'eval_Accuracy': 0.818, 'eval_AUC': 0.944, 'eval_runtime': 4.5155, 'eval_samples_per_second': 99.657, 'eval_steps_per_second': 12.623, 'epoch': 4.0}\n",
      "{'loss': 0.3545, 'grad_norm': 4.926515579223633, 'learning_rate': 0.00015000000000000001, 'epoch': 5.0}\n"
     ]
    },
    {
     "data": {
      "application/vnd.jupyter.widget-view+json": {
       "model_id": "d7b90bb5fd0849e49df1ff2fd9374439",
       "version_major": 2,
       "version_minor": 0
      },
      "text/plain": [
       "  0%|          | 0/57 [00:00<?, ?it/s]"
      ]
     },
     "metadata": {},
     "output_type": "display_data"
    },
    {
     "name": "stdout",
     "output_type": "stream",
     "text": [
      "{'eval_loss': 0.2927698493003845, 'eval_Accuracy': 0.864, 'eval_AUC': 0.947, 'eval_runtime': 4.449, 'eval_samples_per_second': 101.146, 'eval_steps_per_second': 12.812, 'epoch': 5.0}\n",
      "{'loss': 0.36, 'grad_norm': 3.585742235183716, 'learning_rate': 0.00014, 'epoch': 6.0}\n"
     ]
    },
    {
     "data": {
      "application/vnd.jupyter.widget-view+json": {
       "model_id": "60d4f2647de24dfe918783981124b9f2",
       "version_major": 2,
       "version_minor": 0
      },
      "text/plain": [
       "  0%|          | 0/57 [00:00<?, ?it/s]"
      ]
     },
     "metadata": {},
     "output_type": "display_data"
    },
    {
     "name": "stdout",
     "output_type": "stream",
     "text": [
      "{'eval_loss': 0.34056925773620605, 'eval_Accuracy': 0.867, 'eval_AUC': 0.949, 'eval_runtime': 4.398, 'eval_samples_per_second': 102.318, 'eval_steps_per_second': 12.96, 'epoch': 6.0}\n",
      "{'loss': 0.3233, 'grad_norm': 2.841397285461426, 'learning_rate': 0.00013000000000000002, 'epoch': 7.0}\n"
     ]
    },
    {
     "data": {
      "application/vnd.jupyter.widget-view+json": {
       "model_id": "5548b0ac1de64e609402d6378b65f8c9",
       "version_major": 2,
       "version_minor": 0
      },
      "text/plain": [
       "  0%|          | 0/57 [00:00<?, ?it/s]"
      ]
     },
     "metadata": {},
     "output_type": "display_data"
    },
    {
     "name": "stdout",
     "output_type": "stream",
     "text": [
      "{'eval_loss': 0.28970804810523987, 'eval_Accuracy': 0.869, 'eval_AUC': 0.95, 'eval_runtime': 4.5195, 'eval_samples_per_second': 99.568, 'eval_steps_per_second': 12.612, 'epoch': 7.0}\n",
      "{'loss': 0.3411, 'grad_norm': 5.096354007720947, 'learning_rate': 0.00012, 'epoch': 8.0}\n"
     ]
    },
    {
     "data": {
      "application/vnd.jupyter.widget-view+json": {
       "model_id": "6c860198151649af8bd9198bc6cdc022",
       "version_major": 2,
       "version_minor": 0
      },
      "text/plain": [
       "  0%|          | 0/57 [00:00<?, ?it/s]"
      ]
     },
     "metadata": {},
     "output_type": "display_data"
    },
    {
     "name": "stdout",
     "output_type": "stream",
     "text": [
      "{'eval_loss': 0.33279120922088623, 'eval_Accuracy': 0.871, 'eval_AUC': 0.949, 'eval_runtime': 4.531, 'eval_samples_per_second': 99.316, 'eval_steps_per_second': 12.58, 'epoch': 8.0}\n",
      "{'loss': 0.3292, 'grad_norm': 0.3962506949901581, 'learning_rate': 0.00011000000000000002, 'epoch': 9.0}\n"
     ]
    },
    {
     "data": {
      "application/vnd.jupyter.widget-view+json": {
       "model_id": "9bffe5f235dd482fb31c73b1fde1d2fc",
       "version_major": 2,
       "version_minor": 0
      },
      "text/plain": [
       "  0%|          | 0/57 [00:00<?, ?it/s]"
      ]
     },
     "metadata": {},
     "output_type": "display_data"
    },
    {
     "name": "stdout",
     "output_type": "stream",
     "text": [
      "{'eval_loss': 0.3189494013786316, 'eval_Accuracy': 0.876, 'eval_AUC': 0.954, 'eval_runtime': 4.4953, 'eval_samples_per_second': 100.104, 'eval_steps_per_second': 12.68, 'epoch': 9.0}\n",
      "{'loss': 0.3239, 'grad_norm': 6.945038795471191, 'learning_rate': 0.0001, 'epoch': 10.0}\n"
     ]
    },
    {
     "data": {
      "application/vnd.jupyter.widget-view+json": {
       "model_id": "cea10dc61b5b45a4b27dd9bf0901a2f1",
       "version_major": 2,
       "version_minor": 0
      },
      "text/plain": [
       "  0%|          | 0/57 [00:00<?, ?it/s]"
      ]
     },
     "metadata": {},
     "output_type": "display_data"
    },
    {
     "name": "stdout",
     "output_type": "stream",
     "text": [
      "{'eval_loss': 0.3684844970703125, 'eval_Accuracy': 0.849, 'eval_AUC': 0.956, 'eval_runtime': 4.7708, 'eval_samples_per_second': 94.324, 'eval_steps_per_second': 11.948, 'epoch': 10.0}\n",
      "{'loss': 0.3201, 'grad_norm': 0.49358341097831726, 'learning_rate': 9e-05, 'epoch': 11.0}\n"
     ]
    },
    {
     "data": {
      "application/vnd.jupyter.widget-view+json": {
       "model_id": "5790cc2ebf164aacadd2c575c3c467d8",
       "version_major": 2,
       "version_minor": 0
      },
      "text/plain": [
       "  0%|          | 0/57 [00:00<?, ?it/s]"
      ]
     },
     "metadata": {},
     "output_type": "display_data"
    },
    {
     "name": "stdout",
     "output_type": "stream",
     "text": [
      "{'eval_loss': 0.3317105770111084, 'eval_Accuracy': 0.862, 'eval_AUC': 0.956, 'eval_runtime': 4.7981, 'eval_samples_per_second': 93.787, 'eval_steps_per_second': 11.88, 'epoch': 11.0}\n",
      "{'loss': 0.3335, 'grad_norm': 5.004156112670898, 'learning_rate': 8e-05, 'epoch': 12.0}\n"
     ]
    },
    {
     "data": {
      "application/vnd.jupyter.widget-view+json": {
       "model_id": "23bc86dd51db49979f5962fad2a65f35",
       "version_major": 2,
       "version_minor": 0
      },
      "text/plain": [
       "  0%|          | 0/57 [00:00<?, ?it/s]"
      ]
     },
     "metadata": {},
     "output_type": "display_data"
    },
    {
     "name": "stdout",
     "output_type": "stream",
     "text": [
      "{'eval_loss': 0.2724645733833313, 'eval_Accuracy': 0.869, 'eval_AUC': 0.957, 'eval_runtime': 5.1508, 'eval_samples_per_second': 87.364, 'eval_steps_per_second': 11.066, 'epoch': 12.0}\n",
      "{'loss': 0.323, 'grad_norm': 2.7398626804351807, 'learning_rate': 7e-05, 'epoch': 13.0}\n"
     ]
    },
    {
     "data": {
      "application/vnd.jupyter.widget-view+json": {
       "model_id": "18a5cf042e1d4f99ab572eb45155651b",
       "version_major": 2,
       "version_minor": 0
      },
      "text/plain": [
       "  0%|          | 0/57 [00:00<?, ?it/s]"
      ]
     },
     "metadata": {},
     "output_type": "display_data"
    },
    {
     "name": "stdout",
     "output_type": "stream",
     "text": [
      "{'eval_loss': 0.2855619788169861, 'eval_Accuracy': 0.882, 'eval_AUC': 0.955, 'eval_runtime': 5.4938, 'eval_samples_per_second': 81.91, 'eval_steps_per_second': 10.375, 'epoch': 13.0}\n",
      "{'loss': 0.3087, 'grad_norm': 0.7712203860282898, 'learning_rate': 6e-05, 'epoch': 14.0}\n"
     ]
    },
    {
     "data": {
      "application/vnd.jupyter.widget-view+json": {
       "model_id": "724073812da54cff8a3b637a3255de02",
       "version_major": 2,
       "version_minor": 0
      },
      "text/plain": [
       "  0%|          | 0/57 [00:00<?, ?it/s]"
      ]
     },
     "metadata": {},
     "output_type": "display_data"
    },
    {
     "name": "stdout",
     "output_type": "stream",
     "text": [
      "{'eval_loss': 0.29001325368881226, 'eval_Accuracy': 0.882, 'eval_AUC': 0.957, 'eval_runtime': 5.3133, 'eval_samples_per_second': 84.693, 'eval_steps_per_second': 10.728, 'epoch': 14.0}\n",
      "{'loss': 0.305, 'grad_norm': 3.42673921585083, 'learning_rate': 5e-05, 'epoch': 15.0}\n"
     ]
    },
    {
     "data": {
      "application/vnd.jupyter.widget-view+json": {
       "model_id": "971275005fcb40a18896fbee815b9b6d",
       "version_major": 2,
       "version_minor": 0
      },
      "text/plain": [
       "  0%|          | 0/57 [00:00<?, ?it/s]"
      ]
     },
     "metadata": {},
     "output_type": "display_data"
    },
    {
     "name": "stdout",
     "output_type": "stream",
     "text": [
      "{'eval_loss': 0.2703690528869629, 'eval_Accuracy': 0.893, 'eval_AUC': 0.957, 'eval_runtime': 5.3347, 'eval_samples_per_second': 84.353, 'eval_steps_per_second': 10.685, 'epoch': 15.0}\n",
      "{'loss': 0.3032, 'grad_norm': 4.52446985244751, 'learning_rate': 4e-05, 'epoch': 16.0}\n"
     ]
    },
    {
     "data": {
      "application/vnd.jupyter.widget-view+json": {
       "model_id": "6da19dd00d5a4e6d8c44b6203b0242b4",
       "version_major": 2,
       "version_minor": 0
      },
      "text/plain": [
       "  0%|          | 0/57 [00:00<?, ?it/s]"
      ]
     },
     "metadata": {},
     "output_type": "display_data"
    },
    {
     "name": "stdout",
     "output_type": "stream",
     "text": [
      "{'eval_loss': 0.26616430282592773, 'eval_Accuracy': 0.878, 'eval_AUC': 0.957, 'eval_runtime': 5.0818, 'eval_samples_per_second': 88.551, 'eval_steps_per_second': 11.217, 'epoch': 16.0}\n",
      "{'loss': 0.3027, 'grad_norm': 3.361767530441284, 'learning_rate': 3e-05, 'epoch': 17.0}\n"
     ]
    },
    {
     "data": {
      "application/vnd.jupyter.widget-view+json": {
       "model_id": "f880a39c9bd04b8ea0ea76355075cdbf",
       "version_major": 2,
       "version_minor": 0
      },
      "text/plain": [
       "  0%|          | 0/57 [00:00<?, ?it/s]"
      ]
     },
     "metadata": {},
     "output_type": "display_data"
    },
    {
     "name": "stdout",
     "output_type": "stream",
     "text": [
      "{'eval_loss': 0.2929736375808716, 'eval_Accuracy': 0.882, 'eval_AUC': 0.956, 'eval_runtime': 4.9877, 'eval_samples_per_second': 90.222, 'eval_steps_per_second': 11.428, 'epoch': 17.0}\n",
      "{'loss': 0.295, 'grad_norm': 1.585255742073059, 'learning_rate': 2e-05, 'epoch': 18.0}\n"
     ]
    },
    {
     "data": {
      "application/vnd.jupyter.widget-view+json": {
       "model_id": "25a14ee7a85443d4aded44f41f279eba",
       "version_major": 2,
       "version_minor": 0
      },
      "text/plain": [
       "  0%|          | 0/57 [00:00<?, ?it/s]"
      ]
     },
     "metadata": {},
     "output_type": "display_data"
    },
    {
     "name": "stdout",
     "output_type": "stream",
     "text": [
      "{'eval_loss': 0.27071496844291687, 'eval_Accuracy': 0.88, 'eval_AUC': 0.957, 'eval_runtime': 4.9701, 'eval_samples_per_second': 90.541, 'eval_steps_per_second': 11.469, 'epoch': 18.0}\n",
      "{'loss': 0.2998, 'grad_norm': 3.660043954849243, 'learning_rate': 1e-05, 'epoch': 19.0}\n"
     ]
    },
    {
     "data": {
      "application/vnd.jupyter.widget-view+json": {
       "model_id": "e31ed23f58ba4b538fe5e09425b3861e",
       "version_major": 2,
       "version_minor": 0
      },
      "text/plain": [
       "  0%|          | 0/57 [00:00<?, ?it/s]"
      ]
     },
     "metadata": {},
     "output_type": "display_data"
    },
    {
     "name": "stdout",
     "output_type": "stream",
     "text": [
      "{'eval_loss': 0.27815017104148865, 'eval_Accuracy': 0.884, 'eval_AUC': 0.957, 'eval_runtime': 5.4874, 'eval_samples_per_second': 82.006, 'eval_steps_per_second': 10.387, 'epoch': 19.0}\n",
      "{'loss': 0.2971, 'grad_norm': 2.078214168548584, 'learning_rate': 0.0, 'epoch': 20.0}\n"
     ]
    },
    {
     "data": {
      "application/vnd.jupyter.widget-view+json": {
       "model_id": "d2dd598cbef14b06a723673dfeb80ad0",
       "version_major": 2,
       "version_minor": 0
      },
      "text/plain": [
       "  0%|          | 0/57 [00:00<?, ?it/s]"
      ]
     },
     "metadata": {},
     "output_type": "display_data"
    },
    {
     "name": "stdout",
     "output_type": "stream",
     "text": [
      "{'eval_loss': 0.27923068404197693, 'eval_Accuracy': 0.882, 'eval_AUC': 0.957, 'eval_runtime': 5.2937, 'eval_samples_per_second': 85.006, 'eval_steps_per_second': 10.767, 'epoch': 20.0}\n",
      "{'train_runtime': 555.4381, 'train_samples_per_second': 75.616, 'train_steps_per_second': 9.47, 'train_loss': 0.3371708510946412, 'epoch': 20.0}\n"
     ]
    }
   ],
   "source": [
    "trainer = Trainer(\n",
    "    model=model,\n",
    "    args=training_args,\n",
    "    train_dataset=tokenized_data['train'],\n",
    "    eval_dataset=tokenized_data['test'],\n",
    "    tokenizer=tokenizer,\n",
    "    data_collator=data_collator,\n",
    "    compute_metrics=compute_metrics,\n",
    ")\n",
    "train_output = trainer.train()"
   ]
  },
  {
   "cell_type": "markdown",
   "metadata": {},
   "source": [
    "### Evaluation"
   ]
  },
  {
   "cell_type": "code",
   "execution_count": 20,
   "metadata": {},
   "outputs": [
    {
     "data": {
      "image/png": "[encoded data removed]",
      "text/plain": [
       "<Figure size 1200x500 with 2 Axes>"
      ]
     },
     "metadata": {},
     "output_type": "display_data"
    }
   ],
   "source": [
    "log_history = trainer.state.log_history\n",
    "\n",
    "train_loss = [entry['loss'] for entry in log_history if 'loss' in entry]\n",
    "eval_loss = [entry['eval_loss'] for entry in log_history if 'eval_loss' in entry]\n",
    "accuracy_ = [entry['eval_Accuracy'] for entry in log_history if 'eval_Accuracy' in entry]\n",
    "\n",
    "plt.figure(figsize=(12, 5))\n",
    "\n",
    "plt.subplot(1, 2, 1)\n",
    "plt.plot(train_loss, label=\"Training Loss\")\n",
    "plt.plot(eval_loss, label=\"Validation Loss\")\n",
    "plt.xlabel(\"Epochs\")\n",
    "plt.ylabel(\"Loss\")\n",
    "plt.title(\"Loss Curves\")\n",
    "plt.legend()\n",
    "\n",
    "plt.subplot(1, 2, 2)\n",
    "plt.plot(accuracy_, label=\"Validation Accuracy\", color='green')\n",
    "plt.xlabel(\"Epochs\")\n",
    "plt.ylabel(\"Accuracy\")\n",
    "plt.title(\"Accuracy Curve\")\n",
    "plt.legend()\n",
    "\n",
    "plt.tight_layout()\n",
    "plt.show()"
   ]
  },
  {
   "cell_type": "code",
   "execution_count": 21,
   "metadata": {},
   "outputs": [
    {
     "name": "stdout",
     "output_type": "stream",
     "text": [
      "{'Accuracy': np.float64(0.887), 'AUC': np.float64(0.949)}\n"
     ]
    }
   ],
   "source": [
    "predictions = trainer.predict(tokenized_data['validation'])\n",
    "\n",
    "logits = predictions.predictions\n",
    "labels = predictions.label_ids\n",
    "\n",
    "metrics = compute_metrics((logits, labels))\n",
    "print(metrics)"
   ]
  },
  {
   "cell_type": "markdown",
   "metadata": {},
   "source": [
    "### Pushing to HuggingFace"
   ]
  },
  {
   "cell_type": "code",
   "execution_count": 22,
   "metadata": {},
   "outputs": [
    {
     "data": {
      "application/vnd.jupyter.widget-view+json": {
       "model_id": "3efb4c5a7ac94adcb8b5437bfde8dc35",
       "version_major": 2,
       "version_minor": 0
      },
      "text/plain": [
       "model.safetensors:   0%|          | 0.00/438M [00:00<?, ?B/s]"
      ]
     },
     "metadata": {},
     "output_type": "display_data"
    },
    {
     "data": {
      "text/plain": [
       "CommitInfo(commit_url='https://huggingface.co/dhruvyadav89300/BERT-phishing-classifier/commit/4593be3c148dab5570c93824dcdc71bb37159a52', commit_message='Upload BertForSequenceClassification', commit_description='', oid='4593be3c148dab5570c93824dcdc71bb37159a52', pr_url=None, repo_url=RepoUrl('https://huggingface.co/dhruvyadav89300/BERT-phishing-classifier', endpoint='https://huggingface.co', repo_type='model', repo_id='dhruvyadav89300/BERT-phishing-classifier'), pr_revision=None, pr_num=None)"
      ]
     },
     "execution_count": 22,
     "metadata": {},
     "output_type": "execute_result"
    }
   ],
   "source": [
    "model.push_to_hub(\"dhruvyadav89300/BERT-phishing-classifier\")"
   ]
  }
 ],
 "metadata": {
  "kernelspec": {
   "display_name": "BERT",
   "language": "python",
   "name": "python3"
  },
  "language_info": {
   "codemirror_mode": {
    "name": "ipython",
    "version": 3
   },
   "file_extension": ".py",
   "mimetype": "text/x-python",
   "name": "python",
   "nbconvert_exporter": "python",
   "pygments_lexer": "ipython3",
   "version": "3.10.15"
  }
 },
 "nbformat": 4,
 "nbformat_minor": 2
}
